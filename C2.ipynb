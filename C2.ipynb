{
  "cells": [
    {
      "cell_type": "markdown",
      "metadata": {
        "id": "a89RPcbYO9pz"
      },
      "source": [
        "### Ejemplos de instrucciones semanticas en python\n"
      ]
    },
    {
      "cell_type": "code",
      "execution_count": null,
      "metadata": {
        "colab": {
          "base_uri": "https://localhost:8080/"
        },
        "id": "qFVmDVDyOq71",
        "outputId": "b2189d83-2fb7-4eae-97bf-e8c96f98ae68"
      },
      "outputs": [
        {
          "name": "stdout",
          "output_type": "stream",
          "text": [
            "1\n",
            "6\n",
            "7\n"
          ]
        }
      ],
      "source": [
        "#definición de variable llamada a, con valor asignado 1\n",
        "a=1\n",
        "print(a)#mostrar el valor acual de la variable a\n",
        "a=a+5#sobre-escribir a con su antiguo valor mas 5\n",
        "print(a)#mostrar el valor acual de la variable a\n",
        "a+=1#sobre-escribir a con su antiguo valor mas 1\n",
        "print(a)#mostrar el valor acual de la variable a"
      ]
    },
    {
      "cell_type": "code",
      "execution_count": null,
      "metadata": {
        "id": "1lPab7QkkAac"
      },
      "outputs": [],
      "source": [
        "a = int(input(\"ingresar el valor 1\"))\n",
        "if a == 1:\n",
        "  print(a)\n",
        "else:\n",
        "  print(\"el numero ingresado no es el correcto\")\n",
        "  a = int(input(\"ingresar el valor 1\"))\n",
        "  print(a)\n",
        "\n",
        "a = int(input(\"ingresar el valor\"))\n",
        "while a == 1:\n",
        "  a = a + 5\n",
        "  print(a)\n",
        "\n",
        "a = int(input(\"ingresar el valor 6\"))\n",
        "while a == 6:\n",
        "  a += 1\n",
        "  print(a)\n",
        "\n"
      ]
    },
    {
      "cell_type": "code",
      "execution_count": null,
      "metadata": {
        "colab": {
          "base_uri": "https://localhost:8080/"
        },
        "id": "Rp8Yjr_YPbdO",
        "outputId": "d886cfc2-71f3-471b-e1b8-3f0478e51d80"
      },
      "outputs": [
        {
          "name": "stdout",
          "output_type": "stream",
          "text": [
            "7\n"
          ]
        }
      ],
      "source": [
        "\"a=a+5#sobre-escribir a con su antiguo valor mas 5\"\n",
        "print(a)#mostrar el valor acual de la variable a"
      ]
    },
    {
      "cell_type": "code",
      "execution_count": null,
      "metadata": {
        "id": "13dLAjX2ku8x"
      },
      "outputs": [],
      "source": [
        "a = int(input(\"ingresar el valor 5\"))\n",
        "while a == 2:\n",
        "  a = a + 5\n",
        "  print(a)"
      ]
    },
    {
      "cell_type": "code",
      "execution_count": null,
      "metadata": {
        "colab": {
          "base_uri": "https://localhost:8080/"
        },
        "id": "s-Af6e1kPPio",
        "outputId": "4b85157e-9f57-4d72-aed5-67a47aaf5f29"
      },
      "outputs": [
        {
          "name": "stdout",
          "output_type": "stream",
          "text": [
            "2\n"
          ]
        }
      ],
      "source": [
        "a+=1#sobre-escribir a con su antiguo valor mas 1\n",
        "print(a)#mostrar el valor acual de la variable a"
      ]
    },
    {
      "cell_type": "code",
      "execution_count": null,
      "metadata": {
        "id": "EsAnTDkzkzl1"
      },
      "outputs": [],
      "source": [
        "a = int(input(\"ingresar el valor 1\"))\n",
        "while a == 1:\n",
        "  a += 1\n",
        "  print(a)"
      ]
    }
  ],
  "metadata": {
    "colab": {
      "name": "C2.ipynb",
      "provenance": []
    },
    "kernelspec": {
      "display_name": "Python 3",
      "name": "python3"
    },
    "language_info": {
      "name": "python"
    }
  },
  "nbformat": 4,
  "nbformat_minor": 0
}
